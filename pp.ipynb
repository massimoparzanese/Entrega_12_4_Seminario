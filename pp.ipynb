{
 "cells": [
  {
   "cell_type": "markdown",
   "metadata": {},
   "source": [
    "#Variables que se me pidieron para realizar el programa"
   ]
  },
  {
   "cell_type": "code",
   "execution_count": 2,
   "metadata": {},
   "outputs": [],
   "source": [
    "import Calcular\n",
    "names = \"\"\" Agustin, Yanina, Andrés, Ariadna, Bautista, CAROLINA,\n",
    "CESAR, David, Diego, Dolores, DYLAN, ELIANA, Emanuel, Fabián, Noelia,\n",
    "Francsica', FEDERICO, Fernanda, GONZALO, Nancy \"\"\"\n",
    "goals = [0, 10, 4, 0, 5, 14, 0, 0, 7, 2, 1, 1, 1, 5, 6, 1, 1, 2, 0,\n",
    "11]\n",
    "goals_avoided = [0, 2, 0, 0, 5, 2, 0, 0, 1, 2, 0, 5, 5, 0, 1, 0, 2,\n",
    "3, 0, 0]\n",
    "assists = [0, 5, 1, 0, 5, 2, 0, 0, 1, 2, 1, 5, 5, 0, 1, 0, 2, 3, 1,\n",
    "0]\n",
    "names = names.split()\n",
    "partidos_temporada = 25\n"
   ]
  },
  {
   "cell_type": "markdown",
   "metadata": {},
   "source": [
    "#Sub-inciso 1"
   ]
  },
  {
   "cell_type": "code",
   "execution_count": 11,
   "metadata": {},
   "outputs": [
    {
     "name": "stdout",
     "output_type": "stream",
     "text": [
      "[{'nombre': 'Agustin,', 'goles': 0, 'goles evitados': 0, 'asistencias': 0}, {'nombre': 'Yanina,', 'goles': 10, 'goles evitados': 2, 'asistencias': 5}, {'nombre': 'Andrés,', 'goles': 4, 'goles evitados': 0, 'asistencias': 1}, {'nombre': 'Ariadna,', 'goles': 0, 'goles evitados': 0, 'asistencias': 0}, {'nombre': 'Bautista,', 'goles': 5, 'goles evitados': 5, 'asistencias': 5}, {'nombre': 'CAROLINA,', 'goles': 14, 'goles evitados': 2, 'asistencias': 2}, {'nombre': 'CESAR,', 'goles': 0, 'goles evitados': 0, 'asistencias': 0}, {'nombre': 'David,', 'goles': 0, 'goles evitados': 0, 'asistencias': 0}, {'nombre': 'Diego,', 'goles': 7, 'goles evitados': 1, 'asistencias': 1}, {'nombre': 'Dolores,', 'goles': 2, 'goles evitados': 2, 'asistencias': 2}, {'nombre': 'DYLAN,', 'goles': 1, 'goles evitados': 0, 'asistencias': 1}, {'nombre': 'ELIANA,', 'goles': 1, 'goles evitados': 5, 'asistencias': 5}, {'nombre': 'Emanuel,', 'goles': 1, 'goles evitados': 5, 'asistencias': 5}, {'nombre': 'Fabián,', 'goles': 5, 'goles evitados': 0, 'asistencias': 0}, {'nombre': 'Noelia,', 'goles': 6, 'goles evitados': 1, 'asistencias': 1}, {'nombre': \"Francsica',\", 'goles': 1, 'goles evitados': 0, 'asistencias': 0}, {'nombre': 'FEDERICO,', 'goles': 1, 'goles evitados': 2, 'asistencias': 2}, {'nombre': 'Fernanda,', 'goles': 2, 'goles evitados': 3, 'asistencias': 3}, {'nombre': 'GONZALO,', 'goles': 0, 'goles evitados': 0, 'asistencias': 1}, {'nombre': 'Nancy', 'goles': 11, 'goles evitados': 0, 'asistencias': 0}]\n"
     ]
    }
   ],
   "source": [
    "\n",
    "lista_jugadores = []\n",
    "Calcular.Crear_estructura_jugadores(names,goals,goals_avoided,assists,lista_jugadores)\n",
    "print(lista_jugadores)  "
   ]
  },
  {
   "cell_type": "markdown",
   "metadata": {},
   "source": [
    "#Sub-inciso 2\n"
   ]
  },
  {
   "cell_type": "code",
   "execution_count": 12,
   "metadata": {},
   "outputs": [
    {
     "name": "stdout",
     "output_type": "stream",
     "text": [
      "{'nombre': 'CAROLINA,', 'goles': 14}\n"
     ]
    }
   ],
   "source": [
    "goleador = Calcular.obtener_goleador(lista_jugadores)\n",
    "print(goleador)"
   ]
  },
  {
   "cell_type": "markdown",
   "metadata": {},
   "source": [
    "#Sub-inciso 3"
   ]
  },
  {
   "cell_type": "code",
   "execution_count": 14,
   "metadata": {},
   "outputs": [
    {
     "name": "stdout",
     "output_type": "stream",
     "text": [
      "[{'nombre': 'CAROLINA,', 'goles': 14, 'goles evitados': 2, 'asistencias': 2}]\n"
     ]
    }
   ],
   "source": [
    "\n",
    "Influencia= (1.5,1.25,1)\n",
    "jugador_mas_influyente = Calcular.mas_influyente(Influencia,lista_jugadores)\n",
    "print(jugador_mas_influyente)"
   ]
  },
  {
   "cell_type": "markdown",
   "metadata": {},
   "source": [
    "#Sub-inciso 4"
   ]
  },
  {
   "cell_type": "code",
   "execution_count": 15,
   "metadata": {},
   "outputs": [
    {
     "name": "stdout",
     "output_type": "stream",
     "text": [
      "El promedio de goles del equipo es 2.84 por partido\n"
     ]
    }
   ],
   "source": [
    "goles_equipo_promedio = Calcular.promedio_goles_equipo(partidos_temporada,lista_jugadores)\n",
    "print(f\"El promedio de goles del equipo es {goles_equipo_promedio} por partido\")"
   ]
  },
  {
   "cell_type": "markdown",
   "metadata": {},
   "source": [
    "#Sub-inciso 5"
   ]
  },
  {
   "cell_type": "code",
   "execution_count": 10,
   "metadata": {},
   "outputs": [
    {
     "name": "stdout",
     "output_type": "stream",
     "text": [
      "El promedio del goleador/a es: 0.56\n"
     ]
    }
   ],
   "source": [
    "promedio_goleador = Calcular.promedio_del_goleador(lista_jugadores,partidos_temporada)\n",
    "print(f\"El promedio del goleador/a es: {promedio_goleador}\")"
   ]
  }
 ],
 "metadata": {
  "kernelspec": {
   "display_name": "venv",
   "language": "python",
   "name": "python3"
  },
  "language_info": {
   "codemirror_mode": {
    "name": "ipython",
    "version": 3
   },
   "file_extension": ".py",
   "mimetype": "text/x-python",
   "name": "python",
   "nbconvert_exporter": "python",
   "pygments_lexer": "ipython3",
   "version": "3.11.2"
  }
 },
 "nbformat": 4,
 "nbformat_minor": 2
}
